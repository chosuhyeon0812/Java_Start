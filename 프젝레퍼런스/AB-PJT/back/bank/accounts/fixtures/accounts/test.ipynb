{
 "cells": [
  {
   "cell_type": "code",
   "execution_count": 8,
   "metadata": {},
   "outputs": [],
   "source": [
    "import json\n",
    "import pandas as pd\n",
    "import numpy as np\n",
    "import matplotlib.pyplot as plt\n",
    "from sklearn.cluster import KMeans\n",
    "from sklearn.datasets import make_blobs\n",
    "from collections import Counter"
   ]
  },
  {
   "cell_type": "code",
   "execution_count": 9,
   "metadata": {},
   "outputs": [],
   "source": [
    "product_json = open('C:/Users/SSAFY/Desktop/21321/AB_finalpjt/back/bank/accounts/fixtures/accounts/depo_info_data326.json', encoding='UTF8')\n",
    "product_list = json.load(product_json)\n",
    "json_file_path = 'C:/Users/SSAFY/Desktop/21321/AB_finalpjt/back/bank/accounts/fixtures/accounts/user_data.json'\n",
    "with open(json_file_path, 'r', encoding='UTF8') as file:\n",
    "    user_data = json.load(file)\n"
   ]
  },
  {
   "cell_type": "code",
   "execution_count": null,
   "metadata": {},
   "outputs": [],
   "source": []
  },
  {
   "cell_type": "code",
   "execution_count": 10,
   "metadata": {},
   "outputs": [
    {
     "ename": "NameError",
     "evalue": "name 'user_data_list' is not defined",
     "output_type": "error",
     "traceback": [
      "\u001b[1;31m---------------------------------------------------------------------------\u001b[0m",
      "\u001b[1;31mNameError\u001b[0m                                 Traceback (most recent call last)",
      "Cell \u001b[1;32mIn[10], line 2\u001b[0m\n\u001b[0;32m      1\u001b[0m df \u001b[38;5;241m=\u001b[39m pd\u001b[38;5;241m.\u001b[39mDataFrame(product_list)\n\u001b[1;32m----> 2\u001b[0m df_user \u001b[38;5;241m=\u001b[39m pd\u001b[38;5;241m.\u001b[39mDataFrame(\u001b[43muser_data_list\u001b[49m)\n\u001b[0;32m      3\u001b[0m data \u001b[38;5;241m=\u001b[39m df_user[[\u001b[38;5;124m'\u001b[39m\u001b[38;5;124mage\u001b[39m\u001b[38;5;124m'\u001b[39m,\u001b[38;5;124m'\u001b[39m\u001b[38;5;124mgender\u001b[39m\u001b[38;5;124m'\u001b[39m,\u001b[38;5;124m'\u001b[39m\u001b[38;5;124msalary\u001b[39m\u001b[38;5;124m'\u001b[39m,\u001b[38;5;124m'\u001b[39m\u001b[38;5;124mmoney\u001b[39m\u001b[38;5;124m'\u001b[39m]]\n",
      "\u001b[1;31mNameError\u001b[0m: name 'user_data_list' is not defined"
     ]
    }
   ],
   "source": [
    "\n",
    "df = pd.DataFrame(product_list)\n",
    "df_user = pd.DataFrame(user_data_list)\n",
    "data = df_user[['age','gender','salary','money']]\n"
   ]
  },
  {
   "cell_type": "code",
   "execution_count": null,
   "metadata": {},
   "outputs": [],
   "source": [
    "genders = []\n",
    "ages = []\n",
    "moneys = []\n",
    "salaries = []\n",
    "print('assssssssssssssssssssssssssssssssssssssssssss')\n",
    "for data in user_data:\n",
    "    genders.append(int(data['gender']))\n",
    "    ages.append(int(data['age']))\n",
    "    moneys.append(int(data['money']))\n",
    "    salaries.append(int(data['salary']))\n",
    "\n",
    "# 각 항목의 평균 계산\n",
    "gender_mean = np.mean(genders)\n",
    "age_mean = np.mean(ages)\n",
    "money_mean = np.mean(moneys)\n",
    "salary_mean = np.mean(salaries)\n",
    "\n",
    "# 평균의 평균 계산\n",
    "init_centers = np.array([[gender_mean, age_mean, money_mean, salary_mean]] * 4)\n"
   ]
  },
  {
   "cell_type": "code",
   "execution_count": 12,
   "metadata": {},
   "outputs": [
    {
     "name": "stdout",
     "output_type": "stream",
     "text": [
      "assssssssssssssssssssssssssssssssssssssssssss\n"
     ]
    }
   ],
   "source": [
    "genders = []\n",
    "ages = []\n",
    "moneys = []\n",
    "salaries = []\n",
    "print('assssssssssssssssssssssssssssssssssssssssssss')\n",
    "for data in user_data:\n",
    "    genders.append(int(data['gender']))\n",
    "    ages.append(int(data['age']))\n",
    "    moneys.append(int(data['money']))\n",
    "    salaries.append(int(data['salary']))\n",
    "\n",
    "# 각 항목의 평균 계산\n",
    "gender_mean = np.mean(genders)\n",
    "age_mean = np.mean(ages)\n",
    "money_mean = np.mean(moneys)\n",
    "salary_mean = np.mean(salaries)\n",
    "\n",
    "# 평균의 평균 계산\n",
    "init_centers = np.array([[gender_mean, age_mean, money_mean, salary_mean]] * 4)\n"
   ]
  },
  {
   "cell_type": "code",
   "execution_count": 14,
   "metadata": {},
   "outputs": [
    {
     "name": "stderr",
     "output_type": "stream",
     "text": [
      "C:\\Users\\SSAFY\\anaconda3\\lib\\site-packages\\sklearn\\cluster\\_kmeans.py:870: FutureWarning: The default value of `n_init` will change from 10 to 'auto' in 1.4. Set the value of `n_init` explicitly to suppress the warning\n",
      "  warnings.warn(\n",
      "C:\\Users\\SSAFY\\anaconda3\\lib\\site-packages\\sklearn\\cluster\\_kmeans.py:870: FutureWarning: The default value of `n_init` will change from 10 to 'auto' in 1.4. Set the value of `n_init` explicitly to suppress the warning\n",
      "  warnings.warn(\n",
      "C:\\Users\\SSAFY\\anaconda3\\lib\\site-packages\\sklearn\\cluster\\_kmeans.py:870: FutureWarning: The default value of `n_init` will change from 10 to 'auto' in 1.4. Set the value of `n_init` explicitly to suppress the warning\n",
      "  warnings.warn(\n",
      "C:\\Users\\SSAFY\\anaconda3\\lib\\site-packages\\sklearn\\cluster\\_kmeans.py:870: FutureWarning: The default value of `n_init` will change from 10 to 'auto' in 1.4. Set the value of `n_init` explicitly to suppress the warning\n",
      "  warnings.warn(\n",
      "C:\\Users\\SSAFY\\anaconda3\\lib\\site-packages\\sklearn\\cluster\\_kmeans.py:870: FutureWarning: The default value of `n_init` will change from 10 to 'auto' in 1.4. Set the value of `n_init` explicitly to suppress the warning\n",
      "  warnings.warn(\n",
      "C:\\Users\\SSAFY\\anaconda3\\lib\\site-packages\\sklearn\\cluster\\_kmeans.py:870: FutureWarning: The default value of `n_init` will change from 10 to 'auto' in 1.4. Set the value of `n_init` explicitly to suppress the warning\n",
      "  warnings.warn(\n",
      "C:\\Users\\SSAFY\\anaconda3\\lib\\site-packages\\sklearn\\cluster\\_kmeans.py:870: FutureWarning: The default value of `n_init` will change from 10 to 'auto' in 1.4. Set the value of `n_init` explicitly to suppress the warning\n",
      "  warnings.warn(\n",
      "C:\\Users\\SSAFY\\anaconda3\\lib\\site-packages\\sklearn\\cluster\\_kmeans.py:870: FutureWarning: The default value of `n_init` will change from 10 to 'auto' in 1.4. Set the value of `n_init` explicitly to suppress the warning\n",
      "  warnings.warn(\n",
      "C:\\Users\\SSAFY\\anaconda3\\lib\\site-packages\\sklearn\\cluster\\_kmeans.py:870: FutureWarning: The default value of `n_init` will change from 10 to 'auto' in 1.4. Set the value of `n_init` explicitly to suppress the warning\n",
      "  warnings.warn(\n",
      "C:\\Users\\SSAFY\\anaconda3\\lib\\site-packages\\sklearn\\cluster\\_kmeans.py:870: FutureWarning: The default value of `n_init` will change from 10 to 'auto' in 1.4. Set the value of `n_init` explicitly to suppress the warning\n",
      "  warnings.warn(\n"
     ]
    },
    {
     "data": {
      "image/png": "[encoded data removed]",
      "text/plain": [
       "<Figure size 640x480 with 1 Axes>"
      ]
     },
     "metadata": {},
     "output_type": "display_data"
    }
   ],
   "source": [
    "\n",
    "# 엘보우 기법 \n",
    "df_user = pd.DataFrame(user_data)\n",
    "data = df_user[['age','gender','salary','money']]\n",
    "\n",
    "Elbow = []\n",
    "\n",
    "for k in range(1,11):\n",
    "  kmeans = KMeans(n_clusters=k)\n",
    "  kmeans.fit(data)\n",
    "  Elbow.append(kmeans.inertia_)\n",
    "\n",
    "plt.plot(range(1, 11), Elbow)\n",
    "plt.xlabel('Number of Clusters')\n",
    "plt.ylabel('SSE')\n",
    "plt.title('Elbow Curve')\n",
    "plt.show()\n",
    "# 보니까 4개"
   ]
  },
  {
   "cell_type": "code",
   "execution_count": 16,
   "metadata": {},
   "outputs": [
    {
     "name": "stderr",
     "output_type": "stream",
     "text": [
      "C:\\Users\\SSAFY\\anaconda3\\lib\\site-packages\\sklearn\\cluster\\_kmeans.py:1362: RuntimeWarning: Explicit initial center position passed: performing only one init in KMeans instead of n_init=10.\n",
      "  super()._check_params_vs_input(X, default_n_init=10)\n"
     ]
    },
    {
     "data": {
      "text/html": [
       "<style>#sk-container-id-1 {color: black;background-color: white;}#sk-container-id-1 pre{padding: 0;}#sk-container-id-1 div.sk-toggleable {background-color: white;}#sk-container-id-1 label.sk-toggleable__label {cursor: pointer;display: block;width: 100%;margin-bottom: 0;padding: 0.3em;box-sizing: border-box;text-align: center;}#sk-container-id-1 label.sk-toggleable__label-arrow:before {content: \"▸\";float: left;margin-right: 0.25em;color: #696969;}#sk-container-id-1 label.sk-toggleable__label-arrow:hover:before {color: black;}#sk-container-id-1 div.sk-estimator:hover label.sk-toggleable__label-arrow:before {color: black;}#sk-container-id-1 div.sk-toggleable__content {max-height: 0;max-width: 0;overflow: hidden;text-align: left;background-color: #f0f8ff;}#sk-container-id-1 div.sk-toggleable__content pre {margin: 0.2em;color: black;border-radius: 0.25em;background-color: #f0f8ff;}#sk-container-id-1 input.sk-toggleable__control:checked~div.sk-toggleable__content {max-height: 200px;max-width: 100%;overflow: auto;}#sk-container-id-1 input.sk-toggleable__control:checked~label.sk-toggleable__label-arrow:before {content: \"▾\";}#sk-container-id-1 div.sk-estimator input.sk-toggleable__control:checked~label.sk-toggleable__label {background-color: #d4ebff;}#sk-container-id-1 div.sk-label input.sk-toggleable__control:checked~label.sk-toggleable__label {background-color: #d4ebff;}#sk-container-id-1 input.sk-hidden--visually {border: 0;clip: rect(1px 1px 1px 1px);clip: rect(1px, 1px, 1px, 1px);height: 1px;margin: -1px;overflow: hidden;padding: 0;position: absolute;width: 1px;}#sk-container-id-1 div.sk-estimator {font-family: monospace;background-color: #f0f8ff;border: 1px dotted black;border-radius: 0.25em;box-sizing: border-box;margin-bottom: 0.5em;}#sk-container-id-1 div.sk-estimator:hover {background-color: #d4ebff;}#sk-container-id-1 div.sk-parallel-item::after {content: \"\";width: 100%;border-bottom: 1px solid gray;flex-grow: 1;}#sk-container-id-1 div.sk-label:hover label.sk-toggleable__label {background-color: #d4ebff;}#sk-container-id-1 div.sk-serial::before {content: \"\";position: absolute;border-left: 1px solid gray;box-sizing: border-box;top: 0;bottom: 0;left: 50%;z-index: 0;}#sk-container-id-1 div.sk-serial {display: flex;flex-direction: column;align-items: center;background-color: white;padding-right: 0.2em;padding-left: 0.2em;position: relative;}#sk-container-id-1 div.sk-item {position: relative;z-index: 1;}#sk-container-id-1 div.sk-parallel {display: flex;align-items: stretch;justify-content: center;background-color: white;position: relative;}#sk-container-id-1 div.sk-item::before, #sk-container-id-1 div.sk-parallel-item::before {content: \"\";position: absolute;border-left: 1px solid gray;box-sizing: border-box;top: 0;bottom: 0;left: 50%;z-index: -1;}#sk-container-id-1 div.sk-parallel-item {display: flex;flex-direction: column;z-index: 1;position: relative;background-color: white;}#sk-container-id-1 div.sk-parallel-item:first-child::after {align-self: flex-end;width: 50%;}#sk-container-id-1 div.sk-parallel-item:last-child::after {align-self: flex-start;width: 50%;}#sk-container-id-1 div.sk-parallel-item:only-child::after {width: 0;}#sk-container-id-1 div.sk-dashed-wrapped {border: 1px dashed gray;margin: 0 0.4em 0.5em 0.4em;box-sizing: border-box;padding-bottom: 0.4em;background-color: white;}#sk-container-id-1 div.sk-label label {font-family: monospace;font-weight: bold;display: inline-block;line-height: 1.2em;}#sk-container-id-1 div.sk-label-container {text-align: center;}#sk-container-id-1 div.sk-container {/* jupyter's `normalize.less` sets `[hidden] { display: none; }` but bootstrap.min.css set `[hidden] { display: none !important; }` so we also need the `!important` here to be able to override the default hidden behavior on the sphinx rendered scikit-learn.org. See: https://github.com/scikit-learn/scikit-learn/issues/21755 */display: inline-block !important;position: relative;}#sk-container-id-1 div.sk-text-repr-fallback {display: none;}</style><div id=\"sk-container-id-1\" class=\"sk-top-container\"><div class=\"sk-text-repr-fallback\"><pre>KMeans(init=array([[1.502000e+00, 5.007720e+01, 7.537687e+08, 7.471664e+08],\n",
       "       [1.502000e+00, 5.007720e+01, 7.537687e+08, 7.471664e+08],\n",
       "       [1.502000e+00, 5.007720e+01, 7.537687e+08, 7.471664e+08],\n",
       "       [1.502000e+00, 5.007720e+01, 7.537687e+08, 7.471664e+08]]),\n",
       "       n_clusters=4, n_init=10, random_state=0)</pre><b>In a Jupyter environment, please rerun this cell to show the HTML representation or trust the notebook. <br />On GitHub, the HTML representation is unable to render, please try loading this page with nbviewer.org.</b></div><div class=\"sk-container\" hidden><div class=\"sk-item\"><div class=\"sk-estimator sk-toggleable\"><input class=\"sk-toggleable__control sk-hidden--visually\" id=\"sk-estimator-id-1\" type=\"checkbox\" checked><label for=\"sk-estimator-id-1\" class=\"sk-toggleable__label sk-toggleable__label-arrow\">KMeans</label><div class=\"sk-toggleable__content\"><pre>KMeans(init=array([[1.502000e+00, 5.007720e+01, 7.537687e+08, 7.471664e+08],\n",
       "       [1.502000e+00, 5.007720e+01, 7.537687e+08, 7.471664e+08],\n",
       "       [1.502000e+00, 5.007720e+01, 7.537687e+08, 7.471664e+08],\n",
       "       [1.502000e+00, 5.007720e+01, 7.537687e+08, 7.471664e+08]]),\n",
       "       n_clusters=4, n_init=10, random_state=0)</pre></div></div></div></div></div>"
      ],
      "text/plain": [
       "KMeans(init=array([[1.502000e+00, 5.007720e+01, 7.537687e+08, 7.471664e+08],\n",
       "       [1.502000e+00, 5.007720e+01, 7.537687e+08, 7.471664e+08],\n",
       "       [1.502000e+00, 5.007720e+01, 7.537687e+08, 7.471664e+08],\n",
       "       [1.502000e+00, 5.007720e+01, 7.537687e+08, 7.471664e+08]]),\n",
       "       n_clusters=4, n_init=10, random_state=0)"
      ]
     },
     "execution_count": 16,
     "metadata": {},
     "output_type": "execute_result"
    }
   ],
   "source": [
    "k = 4\n",
    "\n",
    "kmeans = KMeans(n_clusters=k,init=init_centers,random_state=0,n_init=10)\n",
    "kmeans.fit(data)\n"
   ]
  },
  {
   "cell_type": "code",
   "execution_count": 17,
   "metadata": {},
   "outputs": [],
   "source": [
    "labels = kmeans.labels_\n",
    "centroids = kmeans.cluster_centers_\n"
   ]
  },
  {
   "cell_type": "code",
   "execution_count": 18,
   "metadata": {},
   "outputs": [
    {
     "name": "stdout",
     "output_type": "stream",
     "text": [
      "[('', 404), ('10140111600061 10141111600051', 13), ('10120114300011', 11), ('01211210122', 10)]\n",
      "[{'id': '10120114300011', 'product': 'Sh해양플라스틱Zero!예금\\n(만기일시지급식)'}, {'id': '01211210122', 'product': 'IBK중기근로자우대적금\\n(자유적립식)'}, {'id': '10140111600061 10141111600051', 'product': 'Sh보고싶다!명태야적금Ⅱ(개인)'}]\n"
     ]
    }
   ],
   "source": [
    "\n",
    "# 각 인원들이 어느라벨에 속하는지 볼게\n",
    "df_user['cluster_label'] = labels\n",
    "\n",
    "# 해당 유저는 가장 마지막에 추가되었으므로 마지막 클러스터 값을 가져온다 !!\n",
    "user_cluster = df_user['cluster_label'].iloc[-1]\n",
    "\n",
    "# 유저랑 같은 군집에 있는 애들의 가입된 상품 가져오기\n",
    "financial_products = df_user.loc[df_user['cluster_label'] == user_cluster, 'financial_products']\n",
    "\n",
    "# 리스트를 딕셔너리로 변환하여 상품 개수 세기\n",
    "product_count = dict(Counter(list(financial_products)))\n",
    "\n",
    "# 정렬 해주고\n",
    "sorted_products = sorted(product_count.items(), key=lambda x: x[1], reverse=True)\n",
    "\n",
    "# 가장 많이 가입한 상위 3개 출력 >> 그게 추천 (처음은 가입안한 갯수가나옴 거의 '')\n",
    "recommend_list = []\n",
    "for product, count in sorted_products[:4]:\n",
    "    recommend_list.append((product,count))\n",
    "    # print(f\"Product: {product}, Count: {count}\")\n",
    "# print(product_list)\n",
    "print(recommend_list)\n",
    "user_recommend_list_list = []\n",
    "for i in product_list:\n",
    "    user_recommend_list = {}\n",
    "    for j in recommend_list:\n",
    "        if i['id']==j[0]:\n",
    "            user_recommend_list['id'] = i['id']\n",
    "            user_recommend_list['product'] = i['product']\n",
    "            user_recommend_list_list.append(user_recommend_list)\n",
    "            break\n",
    "print(user_recommend_list_list)"
   ]
  },
  {
   "cell_type": "code",
   "execution_count": null,
   "metadata": {},
   "outputs": [],
   "source": []
  },
  {
   "cell_type": "code",
   "execution_count": null,
   "metadata": {},
   "outputs": [],
   "source": []
  },
  {
   "cell_type": "code",
   "execution_count": null,
   "metadata": {},
   "outputs": [],
   "source": []
  },
  {
   "cell_type": "code",
   "execution_count": null,
   "metadata": {},
   "outputs": [],
   "source": []
  },
  {
   "cell_type": "code",
   "execution_count": null,
   "metadata": {},
   "outputs": [],
   "source": []
  },
  {
   "cell_type": "code",
   "execution_count": null,
   "metadata": {},
   "outputs": [],
   "source": []
  },
  {
   "cell_type": "code",
   "execution_count": null,
   "metadata": {},
   "outputs": [],
   "source": []
  }
 ],
 "metadata": {
  "kernelspec": {
   "display_name": "Python 3 (ipykernel)",
   "language": "python",
   "name": "python3"
  },
  "language_info": {
   "codemirror_mode": {
    "name": "ipython",
    "version": 3
   },
   "file_extension": ".py",
   "mimetype": "text/x-python",
   "name": "python",
   "nbconvert_exporter": "python",
   "pygments_lexer": "ipython3",
   "version": "3.10.9"
  }
 },
 "nbformat": 4,
 "nbformat_minor": 2
}
